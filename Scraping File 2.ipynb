{
 "cells": [
  {
   "cell_type": "markdown",
   "id": "2b670157",
   "metadata": {},
   "source": [
    "###  scraping data from https://www.zacks.com/funds/etf/veu/holding  "
   ]
  },
  {
   "cell_type": "code",
   "execution_count": 1,
   "id": "bdabce9f",
   "metadata": {},
   "outputs": [],
   "source": [
    "from selenium import webdriver\n",
    "import pandas as pd\n",
    "import time \n",
    "from selenium.webdriver import ActionChains"
   ]
  },
  {
   "cell_type": "code",
   "execution_count": 2,
   "id": "f306eb7c",
   "metadata": {},
   "outputs": [],
   "source": [
    "df=pd.DataFrame(columns=[\"Security_name\",\"Symbol\",\"Shares\",\"Weight(%)\",\"52WK changes(%)\"])"
   ]
  },
  {
   "cell_type": "code",
   "execution_count": 3,
   "id": "613827e4",
   "metadata": {},
   "outputs": [],
   "source": [
    "#selenium \n",
    "driver = webdriver.Chrome('C:/Users/abhis/Downloads/chromedriver')\n",
    "driver.get(\"https://www.zacks.com/funds/etf/veu/holding\")\n",
    "\n",
    "time.sleep(10)#pausing program till website getting load fully\n",
    "\n",
    "elements=driver.find_elements_by_css_selector(\"table#etf_holding_table tbody tr[role='row']\")#searching for table's all rows\n",
    "\n",
    "for e in elements:\n",
    "    eles=e.find_elements_by_tag_name(\"td\")\n",
    "    #appending record in dataframe\n",
    "    df=df.append({\"Security_name\":eles[0].text,\"Symbol\":eles[1].text,\"Shares\":eles[2].text,\"Weight(%)\":eles[3].text,\"52WK changes(%)\":eles[4].text},ignore_index = True)\n",
    "\n",
    "# this while loop run till all pages of table not scraped.\n",
    "while(True):\n",
    "    element=driver.find_element_by_css_selector('.paginate_button.next')#searching for  next button\n",
    "    attr=element.get_attribute('class')# all classes of next button\n",
    "    \n",
    "    if 'disable' not in attr :\n",
    "        button=driver.find_element_by_css_selector('.paginate_button.next')\n",
    "        ActionChains(driver).click(button).perform()#clicking on next button\n",
    "        \n",
    "        elements=driver.find_elements_by_css_selector(\"table#etf_holding_table tbody tr[role='row']\")\n",
    "        for e in elements:\n",
    "            eles=e.find_elements_by_tag_name(\"td\")\n",
    "            df=df.append({\"Security_name\":eles[0].text,\"Symbol\":eles[1].text,\"Shares\":eles[2].text,\"Weight(%)\":eles[3].text,\"52WK changes(%)\":eles[4].text},ignore_index = True)\n",
    "    \n",
    "    else:\n",
    "        break"
   ]
  },
  {
   "cell_type": "code",
   "execution_count": 4,
   "id": "e23bd52c",
   "metadata": {},
   "outputs": [
    {
     "data": {
      "text/html": [
       "<div>\n",
       "<style scoped>\n",
       "    .dataframe tbody tr th:only-of-type {\n",
       "        vertical-align: middle;\n",
       "    }\n",
       "\n",
       "    .dataframe tbody tr th {\n",
       "        vertical-align: top;\n",
       "    }\n",
       "\n",
       "    .dataframe thead th {\n",
       "        text-align: right;\n",
       "    }\n",
       "</style>\n",
       "<table border=\"1\" class=\"dataframe\">\n",
       "  <thead>\n",
       "    <tr style=\"text-align: right;\">\n",
       "      <th></th>\n",
       "      <th>Security_name</th>\n",
       "      <th>Symbol</th>\n",
       "      <th>Shares</th>\n",
       "      <th>Weight(%)</th>\n",
       "      <th>52WK changes(%)</th>\n",
       "    </tr>\n",
       "  </thead>\n",
       "  <tbody>\n",
       "    <tr>\n",
       "      <th>0</th>\n",
       "      <td>Tencent Holding..</td>\n",
       "      <td>700</td>\n",
       "      <td>11,185,704</td>\n",
       "      <td>1.26</td>\n",
       "      <td>NA</td>\n",
       "    </tr>\n",
       "    <tr>\n",
       "      <th>1</th>\n",
       "      <td>Nestle SA</td>\n",
       "      <td>NESN</td>\n",
       "      <td>5,275,721</td>\n",
       "      <td>1.20</td>\n",
       "      <td>NA</td>\n",
       "    </tr>\n",
       "    <tr>\n",
       "      <th>2</th>\n",
       "      <td>ASML Holding NV</td>\n",
       "      <td>ASML</td>\n",
       "      <td>740,202</td>\n",
       "      <td>1.05</td>\n",
       "      <td>67.97</td>\n",
       "    </tr>\n",
       "    <tr>\n",
       "      <th>3</th>\n",
       "      <td>Taiwan Semicond..</td>\n",
       "      <td>2330</td>\n",
       "      <td>25,316,873</td>\n",
       "      <td>0.99</td>\n",
       "      <td>NA</td>\n",
       "    </tr>\n",
       "    <tr>\n",
       "      <th>4</th>\n",
       "      <td>Alibaba Group H..</td>\n",
       "      <td>9988</td>\n",
       "      <td>26,589,840</td>\n",
       "      <td>0.93</td>\n",
       "      <td>NA</td>\n",
       "    </tr>\n",
       "  </tbody>\n",
       "</table>\n",
       "</div>"
      ],
      "text/plain": [
       "       Security_name Symbol      Shares Weight(%) 52WK changes(%)\n",
       "0  Tencent Holding..    700  11,185,704      1.26              NA\n",
       "1          Nestle SA   NESN   5,275,721      1.20              NA\n",
       "2    ASML Holding NV   ASML     740,202      1.05           67.97\n",
       "3  Taiwan Semicond..   2330  25,316,873      0.99              NA\n",
       "4  Alibaba Group H..   9988  26,589,840      0.93              NA"
      ]
     },
     "execution_count": 4,
     "metadata": {},
     "output_type": "execute_result"
    }
   ],
   "source": [
    "df.head()"
   ]
  },
  {
   "cell_type": "code",
   "execution_count": 5,
   "id": "7f9bb099",
   "metadata": {},
   "outputs": [],
   "source": [
    "df.to_csv(\"result.csv\",index=False)"
   ]
  },
  {
   "cell_type": "code",
   "execution_count": null,
   "id": "22155c6c",
   "metadata": {},
   "outputs": [],
   "source": []
  }
 ],
 "metadata": {
  "kernelspec": {
   "display_name": "Python 3",
   "language": "python",
   "name": "python3"
  },
  "language_info": {
   "codemirror_mode": {
    "name": "ipython",
    "version": 3
   },
   "file_extension": ".py",
   "mimetype": "text/x-python",
   "name": "python",
   "nbconvert_exporter": "python",
   "pygments_lexer": "ipython3",
   "version": "3.8.8"
  }
 },
 "nbformat": 4,
 "nbformat_minor": 5
}
