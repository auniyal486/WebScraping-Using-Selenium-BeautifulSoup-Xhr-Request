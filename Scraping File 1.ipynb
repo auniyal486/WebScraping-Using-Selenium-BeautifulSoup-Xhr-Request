{
 "cells": [
  {
   "cell_type": "code",
   "execution_count": 1,
   "id": "40a9acce",
   "metadata": {},
   "outputs": [],
   "source": [
    "from selenium import webdriver\n",
    "import pandas as pd\n",
    "from pprint import pprint\n",
    "from bs4 import BeautifulSoup\n",
    "import requests\n",
    "import ast\n",
    "import json\n",
    "import time "
   ]
  },
  {
   "cell_type": "code",
   "execution_count": 2,
   "id": "b92ddca4",
   "metadata": {},
   "outputs": [],
   "source": [
    "class WebScraping:\n",
    "    website_url=\"https://www.expresslanes.com/map-your-trip\"\n",
    "    data_point={}\n",
    "    odds_point={}\n",
    "    def __init__(self,url):\n",
    "        if(url!=self.website_url):\n",
    "            raise Exception(\"this url is not supported\")\n",
    "        self.website_url=url\n",
    "        \n",
    "    def getEntryAndExitData(self):\n",
    "        driver = webdriver.Chrome('C:/Users/abhis/Downloads/chromedriver')\n",
    "        driver.get(self.website_url)\n",
    "        time.sleep(10)\n",
    "        if driver.find_element_by_id(\"EntrySelect\").text=='':\n",
    "            raise Exception(\"you didn't chose any specify direction\")\n",
    "        content=[]\n",
    "        if len(driver.find_elements_by_css_selector(\"option[data-direction='Southbound']\"))!=1:\n",
    "            soup = BeautifulSoup(driver.page_source, 'html.parser')\n",
    "            content = soup.find_all(\"option\", {\"data-direction\": \"Southbound\"})\n",
    "        else:\n",
    "            soup = BeautifulSoup(driver.page_source, 'html.parser')\n",
    "            content = soup.find_all(\"option\", {\"data-direction\": \"Northbound\"})\n",
    "        \n",
    "        for i in content:\n",
    "            if(i.attrs.get(\"data-bubbleid\")==None):\n",
    "                continue\n",
    "            self.data_point[i.attrs.get(\"data-bubbleid\")[:-2]]=i.text\n",
    "        for i in content:\n",
    "            if(i.attrs.get(\"data-bubbleid\")==None):\n",
    "                continue\n",
    "            temp_list=ast.literal_eval(i.attrs.get('data-exitids'))\n",
    "            for j in temp_list:\n",
    "                for k in j[\"ods\"]:\n",
    "                    if(j[\"id\"][:-2] in self.data_point):\n",
    "                        self.odds_point[k]=[i.attrs.get(\"value\"),j[\"id\"]]\n",
    "    \n",
    "    def getApiData(self):\n",
    "        api_url=\"https://www.expresslanes.com/maps-api/infra-price-confirmed-all\"\n",
    "        r=requests.get(api_url)\n",
    "        if r.status_code!=200:\n",
    "            raise Exception(\"Api is not reachable\")\n",
    "        url_data=r.json()\n",
    "        return url_data\n",
    "    def generateCsvFile(self,url_data):\n",
    "        result=pd.DataFrame(columns=[\"entry_id\",\"exit_id\",\"entry_label\",\"exit_label\",\"ods\",\"path\",\"Direction\",\"status\",\"price\",\"time\"])\n",
    "        for points in url_data[\"response\"]:\n",
    "            if points[\"od\"][3:] in self.odds_point:\n",
    "                temp_data={\"entry_id\":self.odds_point[points[\"od\"][3:]][0],\"exit_id\":self.odds_point[points[\"od\"][3:]][1],\"entry_label\":self.data_point[self.odds_point[points[\"od\"][3:]][0][:-2]],\"exit_label\":self.data_point[self.odds_point[points[\"od\"][3:]][1][:-2]],\"ods\":points[\"od\"],\"path\":points[\"road\"],\"Direction\":points[\"direction\"],\"status\":points[\"status\"],\"price\":points[\"price\"],\"time\":points[\"time\"]}\n",
    "                result=result.append(temp_data,ignore_index=True)\n",
    "\n",
    "        result.to_csv(\"result.csv\",index=False)\n",
    "    def main(self):\n",
    "        self.getEntryAndExitData()\n",
    "        url_data=self.getApiData()\n",
    "        self.generateCsvFile(url_data)"
   ]
  },
  {
   "cell_type": "code",
   "execution_count": 5,
   "id": "6add48cd",
   "metadata": {},
   "outputs": [],
   "source": [
    "object1=WebScraping(\"https://www.expresslanes.com/map-your-trip\")"
   ]
  },
  {
   "cell_type": "code",
   "execution_count": 6,
   "id": "b2a89ee4",
   "metadata": {},
   "outputs": [],
   "source": [
    "object1.main()"
   ]
  }
 ],
 "metadata": {
  "kernelspec": {
   "display_name": "Python 3",
   "language": "python",
   "name": "python3"
  },
  "language_info": {
   "codemirror_mode": {
    "name": "ipython",
    "version": 3
   },
   "file_extension": ".py",
   "mimetype": "text/x-python",
   "name": "python",
   "nbconvert_exporter": "python",
   "pygments_lexer": "ipython3",
   "version": "3.8.8"
  }
 },
 "nbformat": 4,
 "nbformat_minor": 5
}
