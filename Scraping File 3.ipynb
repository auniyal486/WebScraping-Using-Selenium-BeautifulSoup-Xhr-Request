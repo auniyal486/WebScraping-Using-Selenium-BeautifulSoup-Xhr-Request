{
 "cells": [
  {
   "cell_type": "code",
   "execution_count": 1,
   "id": "f1983ab8",
   "metadata": {},
   "outputs": [],
   "source": [
    "from selenium import webdriver\n",
    "import pandas as pd\n",
    "import time \n",
    "from selenium.webdriver import ActionChains\n",
    "from selenium.webdriver.support.ui import WebDriverWait\n",
    "from selenium.webdriver.support import expected_conditions as EC\n",
    "from selenium.webdriver.common.by import By"
   ]
  },
  {
   "cell_type": "code",
   "execution_count": 2,
   "id": "4eddcbc9",
   "metadata": {},
   "outputs": [],
   "source": [
    "df=pd.DataFrame(columns=[\"Name\",\"Phone Number\",\"Address\",\"Web URL\"])"
   ]
  },
  {
   "cell_type": "code",
   "execution_count": 3,
   "id": "87d2437f",
   "metadata": {},
   "outputs": [],
   "source": [
    "url=\"https://www.houzz.in/professionals/civil-engineers-and-contractors/c/Tamil-Nadu\"\n",
    "driver = webdriver.Chrome('C:/Users/abhis/Downloads/chromedriver')\n",
    "driver.get(url)\n",
    "count=2\n",
    "delay=100\n",
    "while(count>=0):\n",
    "    elements=WebDriverWait(driver, delay).until(EC.presence_of_all_elements_located((By.CSS_SELECTOR, \".hz-pro-profile-info-rating.clearfix a\")))\n",
    "    url=driver.find_element_by_css_selector('a[class=\"hz-pagination-link hz-pagination-link--next\"]')\n",
    "    cur_win = driver.current_window_handle\n",
    "    for element in elements:\n",
    "        ActionChains(driver).click(element).perform()\n",
    "        driver.switch_to.window([win for win in driver.window_handles if win !=cur_win][0])\n",
    "        name=WebDriverWait(driver, delay).until(EC.presence_of_element_located((By.CSS_SELECTOR, \".mwxddt-0.jIujVr\"))).text\n",
    "        try:\n",
    "            button=driver.find_element_by_css_selector('button[data-component=\"Pro Phone Link\"]')\n",
    "            ActionChains(driver).click(button).perform()\n",
    "            phone=driver.find_element_by_css_selector('a[data-component=\"Call Pro\"]').text\n",
    "        except:\n",
    "            phone=None\n",
    "        try:\n",
    "            website=driver.find_element_by_css_selector('a[data-component=\"Pro Website Link\"]').get_attribute('href')\n",
    "        except:\n",
    "            website=None\n",
    "        try:\n",
    "            address=driver.find_element_by_css_selector('span[class=\"mwxddt-0 IconRow___StyledText-sc-1yd0o47-1 hgfkgN cgsmAx\"] span span').text\n",
    "        except:\n",
    "            address=None            \n",
    "        df=df.append({\"Name\":name,\"Phone Number\":phone,\"Address\":address,\"Web URL\":website},ignore_index=True)\n",
    "        driver.close() \n",
    "        driver.switch_to.window(cur_win)\n",
    "    ActionChains(driver).click(url).perform()\n",
    "    WebDriverWait(driver, delay).until(lambda driver:driver.current_url!=url.get_attribute('href'))\n",
    "    count-=1"
   ]
  },
  {
   "cell_type": "code",
   "execution_count": 4,
   "id": "2f16defb",
   "metadata": {},
   "outputs": [],
   "source": [
    "df.drop_duplicates(keep=False,inplace=True)"
   ]
  },
  {
   "cell_type": "code",
   "execution_count": 5,
   "id": "64f781d1",
   "metadata": {},
   "outputs": [],
   "source": [
    "df.to_csv(\"homehub.csv\",index=False)"
   ]
  },
  {
   "cell_type": "code",
   "execution_count": null,
   "id": "eae2c046",
   "metadata": {},
   "outputs": [],
   "source": []
  }
 ],
 "metadata": {
  "kernelspec": {
   "display_name": "Python 3",
   "language": "python",
   "name": "python3"
  },
  "language_info": {
   "codemirror_mode": {
    "name": "ipython",
    "version": 3
   },
   "file_extension": ".py",
   "mimetype": "text/x-python",
   "name": "python",
   "nbconvert_exporter": "python",
   "pygments_lexer": "ipython3",
   "version": "3.8.8"
  }
 },
 "nbformat": 4,
 "nbformat_minor": 5
}
